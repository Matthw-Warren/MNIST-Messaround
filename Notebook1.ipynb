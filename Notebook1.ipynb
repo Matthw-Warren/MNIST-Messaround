{
 "cells": [
  {
   "cell_type": "markdown",
   "id": "03688097",
   "metadata": {},
   "source": [
    "# Mnist Messaround\n",
    "\n",
    "Want to look at some ways to visualise what's going on when we're doing deep learning. MNIST is a classical way to do so.\n",
    "\n",
    "The idea of this notebook is to walk myself through Chris Olah's blog page about such visualiation - and hopefully make some comparably nice images.\n",
    "\n",
    "The MNIST data is obtained from \n"
   ]
  },
  {
   "cell_type": "code",
   "execution_count": 6,
   "id": "bf6efb39",
   "metadata": {},
   "outputs": [],
   "source": [
    "import pandas as pd\n",
    "import plotly as pt\n",
    "\n",
    "df = pd.read_csv('MNIST_CSV/mnist_train.csv')\n"
   ]
  },
  {
   "cell_type": "markdown",
   "id": "ef34f270",
   "metadata": {},
   "source": []
  },
  {
   "cell_type": "code",
   "execution_count": null,
   "id": "42e64e9e",
   "metadata": {},
   "outputs": [],
   "source": []
  }
 ],
 "metadata": {
  "kernelspec": {
   "display_name": "base",
   "language": "python",
   "name": "python3"
  },
  "language_info": {
   "codemirror_mode": {
    "name": "ipython",
    "version": 3
   },
   "file_extension": ".py",
   "mimetype": "text/x-python",
   "name": "python",
   "nbconvert_exporter": "python",
   "pygments_lexer": "ipython3",
   "version": "3.12.7"
  }
 },
 "nbformat": 4,
 "nbformat_minor": 5
}
